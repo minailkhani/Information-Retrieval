{
 "cells": [
  {
   "cell_type": "markdown",
   "metadata": {},
   "source": [
    "مینا ایلخانی ۶۱۰۳۹۸۱۹۱"
   ]
  },
  {
   "cell_type": "markdown",
   "metadata": {},
   "source": [
    "functions to create new features"
   ]
  },
  {
   "cell_type": "code",
   "execution_count": 1,
   "metadata": {},
   "outputs": [],
   "source": [
    "def is_english(token):\n",
    "    token = str(token)\n",
    "    for t in token:\n",
    "        if t in \"qwertyuiopasdfghjklzxcvbnm\" :\n",
    "            return 1\n",
    "    return 0"
   ]
  },
  {
   "cell_type": "code",
   "execution_count": 2,
   "metadata": {},
   "outputs": [],
   "source": [
    "def len_token(token):\n",
    "    return len(token)"
   ]
  },
  {
   "cell_type": "code",
   "execution_count": 3,
   "metadata": {},
   "outputs": [],
   "source": [
    "def end_with(token):\n",
    "    token = str(token)\n",
    "    if token[-1]  in \"-=!@#$%^&*()_+<>?:|}{'/\\,.\" :\n",
    "        return 'punctuation' \n",
    "    elif token[-1] in '۱۲۳۴۵۶۷۸۹۰':\n",
    "        return 'pars_num'\n",
    "    elif token[-1].isnumeric():\n",
    "        return 'en_num'\n",
    "    return token[-1]"
   ]
  },
  {
   "cell_type": "code",
   "execution_count": 4,
   "metadata": {},
   "outputs": [],
   "source": [
    "def is_verb(pos_tag):\n",
    "    return  str(pos_tag).startswith('V')"
   ]
  },
  {
   "cell_type": "markdown",
   "metadata": {},
   "source": [
    "read datasset"
   ]
  },
  {
   "cell_type": "code",
   "execution_count": 5,
   "metadata": {},
   "outputs": [
    {
     "data": {
      "text/html": [
       "<div>\n",
       "<style scoped>\n",
       "    .dataframe tbody tr th:only-of-type {\n",
       "        vertical-align: middle;\n",
       "    }\n",
       "\n",
       "    .dataframe tbody tr th {\n",
       "        vertical-align: top;\n",
       "    }\n",
       "\n",
       "    .dataframe thead th {\n",
       "        text-align: right;\n",
       "    }\n",
       "</style>\n",
       "<table border=\"1\" class=\"dataframe\">\n",
       "  <thead>\n",
       "    <tr style=\"text-align: right;\">\n",
       "      <th></th>\n",
       "      <th>Unnamed: 0</th>\n",
       "      <th>token</th>\n",
       "      <th>pos_tag</th>\n",
       "      <th>ezafe_tag</th>\n",
       "    </tr>\n",
       "  </thead>\n",
       "  <tbody>\n",
       "    <tr>\n",
       "      <th>0</th>\n",
       "      <td>0</td>\n",
       "      <td>!هنری!</td>\n",
       "      <td>SUBJ</td>\n",
       "      <td>0</td>\n",
       "    </tr>\n",
       "    <tr>\n",
       "      <th>1</th>\n",
       "      <td>1</td>\n",
       "      <td>#</td>\n",
       "      <td>DELM</td>\n",
       "      <td>0</td>\n",
       "    </tr>\n",
       "    <tr>\n",
       "      <th>2</th>\n",
       "      <td>2</td>\n",
       "      <td>مسعود</td>\n",
       "      <td>N_SING_PR</td>\n",
       "      <td>1</td>\n",
       "    </tr>\n",
       "    <tr>\n",
       "      <th>3</th>\n",
       "      <td>3</td>\n",
       "      <td>شجاعی</td>\n",
       "      <td>N_SING_PR</td>\n",
       "      <td>1</td>\n",
       "    </tr>\n",
       "    <tr>\n",
       "      <th>4</th>\n",
       "      <td>4</td>\n",
       "      <td>طباطبایی</td>\n",
       "      <td>N_SING_PR</td>\n",
       "      <td>0</td>\n",
       "    </tr>\n",
       "    <tr>\n",
       "      <th>...</th>\n",
       "      <td>...</td>\n",
       "      <td>...</td>\n",
       "      <td>...</td>\n",
       "      <td>...</td>\n",
       "    </tr>\n",
       "    <tr>\n",
       "      <th>2602531</th>\n",
       "      <td>2602531</td>\n",
       "      <td>مصنوعی</td>\n",
       "      <td>ADJ_SIM</td>\n",
       "      <td>0</td>\n",
       "    </tr>\n",
       "    <tr>\n",
       "      <th>2602532</th>\n",
       "      <td>2602532</td>\n",
       "      <td>ایجاد</td>\n",
       "      <td>N_SING_COM</td>\n",
       "      <td>0</td>\n",
       "    </tr>\n",
       "    <tr>\n",
       "      <th>2602533</th>\n",
       "      <td>2602533</td>\n",
       "      <td>شده</td>\n",
       "      <td>ADJ_INO</td>\n",
       "      <td>0</td>\n",
       "    </tr>\n",
       "    <tr>\n",
       "      <th>2602534</th>\n",
       "      <td>2602534</td>\n",
       "      <td>است</td>\n",
       "      <td>V_PRE_SIM</td>\n",
       "      <td>0</td>\n",
       "    </tr>\n",
       "    <tr>\n",
       "      <th>2602535</th>\n",
       "      <td>2602535</td>\n",
       "      <td>.</td>\n",
       "      <td>DELM</td>\n",
       "      <td>0</td>\n",
       "    </tr>\n",
       "  </tbody>\n",
       "</table>\n",
       "<p>2602536 rows × 4 columns</p>\n",
       "</div>"
      ],
      "text/plain": [
       "         Unnamed: 0     token     pos_tag  ezafe_tag\n",
       "0                 0    !هنری!        SUBJ          0\n",
       "1                 1         #        DELM          0\n",
       "2                 2     مسعود   N_SING_PR          1\n",
       "3                 3     شجاعی   N_SING_PR          1\n",
       "4                 4  طباطبایی   N_SING_PR          0\n",
       "...             ...       ...         ...        ...\n",
       "2602531     2602531    مصنوعی     ADJ_SIM          0\n",
       "2602532     2602532     ایجاد  N_SING_COM          0\n",
       "2602533     2602533       شده     ADJ_INO          0\n",
       "2602534     2602534       است   V_PRE_SIM          0\n",
       "2602535     2602535         .        DELM          0\n",
       "\n",
       "[2602536 rows x 4 columns]"
      ]
     },
     "execution_count": 5,
     "metadata": {},
     "output_type": "execute_result"
    }
   ],
   "source": [
    "import pandas as pd\n",
    "df = pd.read_csv(\"updated_bijankhan_corpus.csv\")\n",
    "df"
   ]
  },
  {
   "cell_type": "code",
   "execution_count": 6,
   "metadata": {},
   "outputs": [
    {
     "data": {
      "text/html": [
       "<div>\n",
       "<style scoped>\n",
       "    .dataframe tbody tr th:only-of-type {\n",
       "        vertical-align: middle;\n",
       "    }\n",
       "\n",
       "    .dataframe tbody tr th {\n",
       "        vertical-align: top;\n",
       "    }\n",
       "\n",
       "    .dataframe thead th {\n",
       "        text-align: right;\n",
       "    }\n",
       "</style>\n",
       "<table border=\"1\" class=\"dataframe\">\n",
       "  <thead>\n",
       "    <tr style=\"text-align: right;\">\n",
       "      <th></th>\n",
       "      <th>token</th>\n",
       "      <th>pos_tag</th>\n",
       "      <th>ezafe_tag</th>\n",
       "    </tr>\n",
       "  </thead>\n",
       "  <tbody>\n",
       "    <tr>\n",
       "      <th>0</th>\n",
       "      <td>!هنری!</td>\n",
       "      <td>SUBJ</td>\n",
       "      <td>0</td>\n",
       "    </tr>\n",
       "    <tr>\n",
       "      <th>1</th>\n",
       "      <td>#</td>\n",
       "      <td>DELM</td>\n",
       "      <td>0</td>\n",
       "    </tr>\n",
       "    <tr>\n",
       "      <th>2</th>\n",
       "      <td>مسعود</td>\n",
       "      <td>N_SING_PR</td>\n",
       "      <td>1</td>\n",
       "    </tr>\n",
       "    <tr>\n",
       "      <th>3</th>\n",
       "      <td>شجاعی</td>\n",
       "      <td>N_SING_PR</td>\n",
       "      <td>1</td>\n",
       "    </tr>\n",
       "    <tr>\n",
       "      <th>4</th>\n",
       "      <td>طباطبایی</td>\n",
       "      <td>N_SING_PR</td>\n",
       "      <td>0</td>\n",
       "    </tr>\n",
       "    <tr>\n",
       "      <th>...</th>\n",
       "      <td>...</td>\n",
       "      <td>...</td>\n",
       "      <td>...</td>\n",
       "    </tr>\n",
       "    <tr>\n",
       "      <th>2602531</th>\n",
       "      <td>مصنوعی</td>\n",
       "      <td>ADJ_SIM</td>\n",
       "      <td>0</td>\n",
       "    </tr>\n",
       "    <tr>\n",
       "      <th>2602532</th>\n",
       "      <td>ایجاد</td>\n",
       "      <td>N_SING_COM</td>\n",
       "      <td>0</td>\n",
       "    </tr>\n",
       "    <tr>\n",
       "      <th>2602533</th>\n",
       "      <td>شده</td>\n",
       "      <td>ADJ_INO</td>\n",
       "      <td>0</td>\n",
       "    </tr>\n",
       "    <tr>\n",
       "      <th>2602534</th>\n",
       "      <td>است</td>\n",
       "      <td>V_PRE_SIM</td>\n",
       "      <td>0</td>\n",
       "    </tr>\n",
       "    <tr>\n",
       "      <th>2602535</th>\n",
       "      <td>.</td>\n",
       "      <td>DELM</td>\n",
       "      <td>0</td>\n",
       "    </tr>\n",
       "  </tbody>\n",
       "</table>\n",
       "<p>2602536 rows × 3 columns</p>\n",
       "</div>"
      ],
      "text/plain": [
       "            token     pos_tag  ezafe_tag\n",
       "0          !هنری!        SUBJ          0\n",
       "1               #        DELM          0\n",
       "2           مسعود   N_SING_PR          1\n",
       "3           شجاعی   N_SING_PR          1\n",
       "4        طباطبایی   N_SING_PR          0\n",
       "...           ...         ...        ...\n",
       "2602531    مصنوعی     ADJ_SIM          0\n",
       "2602532     ایجاد  N_SING_COM          0\n",
       "2602533       شده     ADJ_INO          0\n",
       "2602534       است   V_PRE_SIM          0\n",
       "2602535         .        DELM          0\n",
       "\n",
       "[2602536 rows x 3 columns]"
      ]
     },
     "execution_count": 6,
     "metadata": {},
     "output_type": "execute_result"
    }
   ],
   "source": [
    "df.drop('Unnamed: 0', inplace=True, axis=1)\n",
    "df"
   ]
  },
  {
   "cell_type": "code",
   "execution_count": 7,
   "metadata": {},
   "outputs": [
    {
     "name": "stdout",
     "output_type": "stream",
     "text": [
      "<class 'pandas.core.frame.DataFrame'>\n",
      "RangeIndex: 2602536 entries, 0 to 2602535\n",
      "Data columns (total 3 columns):\n",
      " #   Column     Dtype \n",
      "---  ------     ----- \n",
      " 0   token      object\n",
      " 1   pos_tag    object\n",
      " 2   ezafe_tag  int64 \n",
      "dtypes: int64(1), object(2)\n",
      "memory usage: 59.6+ MB\n"
     ]
    }
   ],
   "source": [
    "df.info()"
   ]
  },
  {
   "cell_type": "code",
   "execution_count": 8,
   "metadata": {},
   "outputs": [
    {
     "data": {
      "text/plain": [
       "0    2016358\n",
       "1     586178\n",
       "Name: ezafe_tag, dtype: int64"
      ]
     },
     "execution_count": 8,
     "metadata": {},
     "output_type": "execute_result"
    },
    {
     "data": {
      "image/png": "[encoded data removed]",
      "text/plain": [
       "<Figure size 432x288 with 1 Axes>"
      ]
     },
     "metadata": {
      "needs_background": "light"
     },
     "output_type": "display_data"
    }
   ],
   "source": [
    "df['ezafe_tag'].hist()\n",
    "df['ezafe_tag'].value_counts()"
   ]
  },
  {
   "cell_type": "code",
   "execution_count": 9,
   "metadata": {},
   "outputs": [
    {
     "name": "stdout",
     "output_type": "stream",
     "text": [
      "num of position tag: 483\n"
     ]
    }
   ],
   "source": [
    "print(\"num of position tag:\", len(df[\"pos_tag\"].unique()))"
   ]
  },
  {
   "cell_type": "markdown",
   "metadata": {},
   "source": [
    "there is not 483 position tag in Persian. In some pos tags _ I guess it means that the word has several position tag"
   ]
  },
  {
   "cell_type": "code",
   "execution_count": 10,
   "metadata": {},
   "outputs": [
    {
     "data": {
      "text/html": [
       "<div>\n",
       "<style scoped>\n",
       "    .dataframe tbody tr th:only-of-type {\n",
       "        vertical-align: middle;\n",
       "    }\n",
       "\n",
       "    .dataframe tbody tr th {\n",
       "        vertical-align: top;\n",
       "    }\n",
       "\n",
       "    .dataframe thead th {\n",
       "        text-align: right;\n",
       "    }\n",
       "</style>\n",
       "<table border=\"1\" class=\"dataframe\">\n",
       "  <thead>\n",
       "    <tr style=\"text-align: right;\">\n",
       "      <th></th>\n",
       "      <th>0</th>\n",
       "      <th>1</th>\n",
       "      <th>2</th>\n",
       "      <th>3</th>\n",
       "      <th>4</th>\n",
       "      <th>5</th>\n",
       "    </tr>\n",
       "  </thead>\n",
       "  <tbody>\n",
       "    <tr>\n",
       "      <th>0</th>\n",
       "      <td>SUBJ</td>\n",
       "      <td>None</td>\n",
       "      <td>None</td>\n",
       "      <td>None</td>\n",
       "      <td>None</td>\n",
       "      <td>None</td>\n",
       "    </tr>\n",
       "    <tr>\n",
       "      <th>1</th>\n",
       "      <td>DELM</td>\n",
       "      <td>None</td>\n",
       "      <td>None</td>\n",
       "      <td>None</td>\n",
       "      <td>None</td>\n",
       "      <td>None</td>\n",
       "    </tr>\n",
       "    <tr>\n",
       "      <th>2</th>\n",
       "      <td>N</td>\n",
       "      <td>SING</td>\n",
       "      <td>PR</td>\n",
       "      <td>None</td>\n",
       "      <td>None</td>\n",
       "      <td>None</td>\n",
       "    </tr>\n",
       "    <tr>\n",
       "      <th>3</th>\n",
       "      <td>N</td>\n",
       "      <td>SING</td>\n",
       "      <td>PR</td>\n",
       "      <td>None</td>\n",
       "      <td>None</td>\n",
       "      <td>None</td>\n",
       "    </tr>\n",
       "    <tr>\n",
       "      <th>4</th>\n",
       "      <td>N</td>\n",
       "      <td>SING</td>\n",
       "      <td>PR</td>\n",
       "      <td>None</td>\n",
       "      <td>None</td>\n",
       "      <td>None</td>\n",
       "    </tr>\n",
       "    <tr>\n",
       "      <th>...</th>\n",
       "      <td>...</td>\n",
       "      <td>...</td>\n",
       "      <td>...</td>\n",
       "      <td>...</td>\n",
       "      <td>...</td>\n",
       "      <td>...</td>\n",
       "    </tr>\n",
       "    <tr>\n",
       "      <th>2602531</th>\n",
       "      <td>ADJ</td>\n",
       "      <td>SIM</td>\n",
       "      <td>None</td>\n",
       "      <td>None</td>\n",
       "      <td>None</td>\n",
       "      <td>None</td>\n",
       "    </tr>\n",
       "    <tr>\n",
       "      <th>2602532</th>\n",
       "      <td>N</td>\n",
       "      <td>SING</td>\n",
       "      <td>COM</td>\n",
       "      <td>None</td>\n",
       "      <td>None</td>\n",
       "      <td>None</td>\n",
       "    </tr>\n",
       "    <tr>\n",
       "      <th>2602533</th>\n",
       "      <td>ADJ</td>\n",
       "      <td>INO</td>\n",
       "      <td>None</td>\n",
       "      <td>None</td>\n",
       "      <td>None</td>\n",
       "      <td>None</td>\n",
       "    </tr>\n",
       "    <tr>\n",
       "      <th>2602534</th>\n",
       "      <td>V</td>\n",
       "      <td>PRE</td>\n",
       "      <td>SIM</td>\n",
       "      <td>None</td>\n",
       "      <td>None</td>\n",
       "      <td>None</td>\n",
       "    </tr>\n",
       "    <tr>\n",
       "      <th>2602535</th>\n",
       "      <td>DELM</td>\n",
       "      <td>None</td>\n",
       "      <td>None</td>\n",
       "      <td>None</td>\n",
       "      <td>None</td>\n",
       "      <td>None</td>\n",
       "    </tr>\n",
       "  </tbody>\n",
       "</table>\n",
       "<p>2602536 rows × 6 columns</p>\n",
       "</div>"
      ],
      "text/plain": [
       "            0     1     2     3     4     5\n",
       "0        SUBJ  None  None  None  None  None\n",
       "1        DELM  None  None  None  None  None\n",
       "2           N  SING    PR  None  None  None\n",
       "3           N  SING    PR  None  None  None\n",
       "4           N  SING    PR  None  None  None\n",
       "...       ...   ...   ...   ...   ...   ...\n",
       "2602531   ADJ   SIM  None  None  None  None\n",
       "2602532     N  SING   COM  None  None  None\n",
       "2602533   ADJ   INO  None  None  None  None\n",
       "2602534     V   PRE   SIM  None  None  None\n",
       "2602535  DELM  None  None  None  None  None\n",
       "\n",
       "[2602536 rows x 6 columns]"
      ]
     },
     "execution_count": 10,
     "metadata": {},
     "output_type": "execute_result"
    }
   ],
   "source": [
    "new = df[\"pos_tag\"].str.split(\"_\", n = 7, expand = True)\n",
    "new"
   ]
  },
  {
   "cell_type": "markdown",
   "metadata": {},
   "source": [
    "هر کلمه حداکثر 6 نقش دارد"
   ]
  },
  {
   "cell_type": "code",
   "execution_count": 11,
   "metadata": {},
   "outputs": [
    {
     "data": {
      "text/plain": [
       "153"
      ]
     },
     "execution_count": 11,
     "metadata": {},
     "output_type": "execute_result"
    }
   ],
   "source": [
    "tag1 = []\n",
    "for i in range(6):\n",
    "    tag1.append(list(new[i].unique()))\n",
    "\n",
    "tag2 = []\n",
    "for colUnique in tag1:\n",
    "    for e in colUnique:\n",
    "       tag2.append(e)\n",
    "tag2 = pd.Series(tag2)\n",
    "len(tag2.unique())"
   ]
  },
  {
   "cell_type": "markdown",
   "metadata": {},
   "source": [
    "So there are 153 different position tag. It would not be good to take each position tag as a feature because the number of columns increases."
   ]
  },
  {
   "cell_type": "markdown",
   "metadata": {},
   "source": [
    "ezafe_tag of Verbs should be 0 .We check the correctness of this. \n",
    "\n",
    "This could be done with the parsivar library"
   ]
  },
  {
   "cell_type": "code",
   "execution_count": 12,
   "metadata": {},
   "outputs": [
    {
     "name": "stdout",
     "output_type": "stream",
     "text": [
      "225674\n",
      "225674\n",
      "0\n"
     ]
    },
    {
     "data": {
      "image/png": "[encoded data removed]",
      "text/plain": [
       "<Figure size 432x288 with 1 Axes>"
      ]
     },
     "metadata": {
      "needs_background": "light"
     },
     "output_type": "display_data"
    }
   ],
   "source": [
    "df['is_verb'] = df['pos_tag'].apply(is_verb).astype(int)\n",
    "df['is_verb'].hist()\n",
    "\n",
    "print(len(df.loc[ (df['is_verb'] == 1)  ]))\n",
    "print(len(df.loc[ (df['is_verb'] == 1 ) & (df['ezafe_tag'] == 0)  ]))\n",
    "print(len(df.loc[ (df['is_verb'] == 1 ) & (df['ezafe_tag'] == 1)  ]))"
   ]
  },
  {
   "cell_type": "markdown",
   "metadata": {},
   "source": [
    "So for all of the words which V is in it's pos_tag ==> ezafe_tag is 0"
   ]
  },
  {
   "cell_type": "markdown",
   "metadata": {},
   "source": [
    "Ezafe_tag should not be 1 for tekens that do not end in letters or are English. We check the correctness of this statement"
   ]
  },
  {
   "cell_type": "code",
   "execution_count": 13,
   "metadata": {},
   "outputs": [
    {
     "name": "stdout",
     "output_type": "stream",
     "text": [
      "798\n",
      "729\n",
      "69\n"
     ]
    },
    {
     "data": {
      "image/png": "[encoded data removed]",
      "text/plain": [
       "<Figure size 432x288 with 1 Axes>"
      ]
     },
     "metadata": {
      "needs_background": "light"
     },
     "output_type": "display_data"
    }
   ],
   "source": [
    "df['is_eng'] = df['token'].apply(is_english).astype(int)\n",
    "df['is_eng'].hist()\n",
    "print(len(df.loc[ (df['is_eng'] == 1)  ]))\n",
    "print(len(df.loc[ (df['is_eng'] == 1 ) & (df['ezafe_tag'] == 0)  ]))\n",
    "print(len(df.loc[ (df['is_eng'] == 1 ) & (df['ezafe_tag'] == 1)  ]))"
   ]
  },
  {
   "cell_type": "markdown",
   "metadata": {},
   "source": [
    "Ezafe_tag is 1 for some tekens that are English :)\n",
    "\n",
    "for example:\n",
    "(ویندوز desktop روی)"
   ]
  },
  {
   "cell_type": "code",
   "execution_count": 14,
   "metadata": {},
   "outputs": [],
   "source": [
    "df.drop('is_eng', inplace=True, axis=1)"
   ]
  },
  {
   "cell_type": "code",
   "execution_count": 15,
   "metadata": {},
   "outputs": [
    {
     "name": "stdout",
     "output_type": "stream",
     "text": [
      "143664\n",
      "143664\n",
      "0\n"
     ]
    }
   ],
   "source": [
    "df['ends_with'] = df['token'].apply(end_with)\n",
    "print(len(df.loc[ (df['ends_with'] == 'punctuation')  ]))\n",
    "print(len(df.loc[ (df['ends_with'] == 'punctuation' ) & (df['ezafe_tag'] == 0)  ]))\n",
    "print(len(df.loc[ (df['ends_with'] == 'punctuation' ) & (df['ezafe_tag'] == 1)  ]))"
   ]
  },
  {
   "cell_type": "markdown",
   "metadata": {},
   "source": [
    "So whether the token ends with punctuation or not can be a good feature (the second good feature I found)"
   ]
  },
  {
   "cell_type": "markdown",
   "metadata": {},
   "source": [
    "ends with numbers:"
   ]
  },
  {
   "cell_type": "code",
   "execution_count": 16,
   "metadata": {},
   "outputs": [
    {
     "name": "stdout",
     "output_type": "stream",
     "text": [
      "0\n",
      "43116\n",
      "40177\n",
      "2939\n"
     ]
    }
   ],
   "source": [
    "print(len(df.loc[ (df['ends_with'] == 'par_num')  ]))\n",
    "print(len(df.loc[ (df['ends_with'] == 'en_num' )  ]))\n",
    "\n",
    "print(len(df.loc[ (df['ends_with'] == 'en_num' ) & (df['ezafe_tag'] == 0)  ]))\n",
    "print(len(df.loc[ (df['ends_with'] == 'en_num' ) & (df['ezafe_tag'] == 1)  ]))"
   ]
  },
  {
   "cell_type": "markdown",
   "metadata": {},
   "source": [
    "Ezafe_tag is 1 for some tekens that ends with nubmers :)\n",
    "\n",
    "for example:\n",
    "(کودتای ۲۸ مرداد)"
   ]
  },
  {
   "cell_type": "markdown",
   "metadata": {},
   "source": [
    "\n",
    "Ezafe_tag is not 1 for tekens that end in «آ،ا،و،ه» . We check the correctness of this statement and also «ی» "
   ]
  },
  {
   "cell_type": "markdown",
   "metadata": {},
   "source": [
    "ی"
   ]
  },
  {
   "cell_type": "code",
   "execution_count": 17,
   "metadata": {},
   "outputs": [
    {
     "name": "stdout",
     "output_type": "stream",
     "text": [
      "142398\n",
      "192260\n",
      "\n",
      "21662\n",
      "13572\n",
      "8090\n",
      "\n",
      "7652\n",
      "6384\n",
      "1268\n",
      "\n",
      "21\n",
      "10\n",
      "11\n",
      "\n"
     ]
    },
    {
     "data": {
      "image/png": "[encoded data removed]",
      "text/plain": [
       "<Figure size 432x288 with 1 Axes>"
      ]
     },
     "metadata": {
      "needs_background": "light"
     },
     "output_type": "display_data"
    }
   ],
   "source": [
    "df['token_len'] = df['token'].apply(len_token)\n",
    "\n",
    "df['token_len'].hist(bins=30)\n",
    "\n",
    "print(len(df.loc[ (df['ezafe_tag'] == 1) & (df['ends_with'] == 'ی')  ]))\n",
    "print(len(df.loc[ (df['ezafe_tag'] == 0) & (df['ends_with'] == 'ی')  ]))\n",
    "print()\n",
    "print(len(df.loc[ (df['token_len'] == 3 ) & (df['ends_with'] == 'ی')  ]))\n",
    "print(len(df.loc[ (df['token_len'] == 3 ) & (df['ends_with'] == 'ی') & (df['ezafe_tag'] == 0)  ]))\n",
    "print(len(df.loc[ (df['token_len'] == 3 ) & (df['ends_with'] == 'ی') & (df['ezafe_tag'] == 1)  ]))\n",
    "print()\n",
    "print(len(df.loc[ (df['token_len'] == 2 ) & (df['ends_with'] == 'ی')  ]))\n",
    "print(len(df.loc[ (df['token_len'] == 2 ) & (df['ends_with'] == 'ی') & (df['ezafe_tag'] == 0)  ]))\n",
    "print(len(df.loc[ (df['token_len'] == 2 ) & (df['ends_with'] == 'ی') & (df['ezafe_tag'] == 1)  ]))\n",
    "print()\n",
    "print(len(df.loc[ (df['token_len'] == 1 ) & (df['ends_with'] == 'ی')  ]))\n",
    "print(len(df.loc[ (df['token_len'] == 1 ) & (df['ends_with'] == 'ی') & (df['ezafe_tag'] == 0)  ]))\n",
    "print(len(df.loc[ (df['token_len'] == 1 ) & (df['ends_with'] == 'ی') & (df['ezafe_tag'] == 1)  ]))\n",
    "print()"
   ]
  },
  {
   "cell_type": "markdown",
   "metadata": {},
   "source": [
    "The cases examined above also did not find a significant relationship\n",
    "\n",
    "most tokens are 1 to 6 in length "
   ]
  },
  {
   "cell_type": "markdown",
   "metadata": {},
   "source": [
    "و،ه،آ"
   ]
  },
  {
   "cell_type": "code",
   "execution_count": 18,
   "metadata": {},
   "outputs": [
    {
     "name": "stdout",
     "output_type": "stream",
     "text": [
      "29\n",
      "28\n",
      "1\n",
      "\n",
      "14\n",
      "14\n",
      "0\n",
      "\n",
      "120557\n",
      "120477\n",
      "80\n",
      "\n",
      "71\n",
      "30\n",
      "41\n",
      "\n"
     ]
    }
   ],
   "source": [
    "print(len(df.loc[ (df['token_len'] == 1 ) & (df['ends_with'] == 'آ')  ]))\n",
    "print(len(df.loc[ (df['token_len'] == 1 ) & (df['ends_with'] == 'آ') & (df['ezafe_tag'] == 0)  ]))\n",
    "print(len(df.loc[ (df['token_len'] == 1 ) & (df['ends_with'] == 'آ') & (df['ezafe_tag'] == 1)  ]))\n",
    "print()\n",
    "print(len(df.loc[ (df['token_len'] == 1 ) & (df['ends_with'] == 'ا')  ]))\n",
    "print(len(df.loc[ (df['token_len'] == 1 ) & (df['ends_with'] == 'ا') & (df['ezafe_tag'] == 0)  ]))\n",
    "print(len(df.loc[ (df['token_len'] == 1 ) & (df['ends_with'] == 'ا') & (df['ezafe_tag'] == 1)  ]))\n",
    "print()\n",
    "print(len(df.loc[ (df['token_len'] == 1 ) & (df['ends_with'] == 'و')  ]))\n",
    "print(len(df.loc[ (df['token_len'] == 1 ) & (df['ends_with'] == 'و') & (df['ezafe_tag'] == 0)  ]))\n",
    "print(len(df.loc[ (df['token_len'] == 1 ) & (df['ends_with'] == 'و') & (df['ezafe_tag'] == 1)  ]))\n",
    "print()\n",
    "print(len(df.loc[ (df['token_len'] == 1 ) & (df['ends_with'] == 'ه')  ]))\n",
    "print(len(df.loc[ (df['token_len'] == 1 ) & (df['ends_with'] == 'ه') & (df['ezafe_tag'] == 0)  ]))\n",
    "print(len(df.loc[ (df['token_len'] == 1 ) & (df['ends_with'] == 'ه') & (df['ezafe_tag'] == 1)  ]))\n",
    "print()"
   ]
  },
  {
   "cell_type": "markdown",
   "metadata": {},
   "source": [
    "If \"ا\" comes at the end of the token, it is not possible for the ezafe_tag to be 1, but it will not be effective because its number is very small. But to be sure, I will examine its effect when creating the model"
   ]
  },
  {
   "cell_type": "code",
   "execution_count": 19,
   "metadata": {},
   "outputs": [
    {
     "name": "stdout",
     "output_type": "stream",
     "text": [
      "334658\n",
      "0\n",
      "\n",
      "0\n",
      "65352\n",
      "\n",
      "319145\n",
      "0\n"
     ]
    }
   ],
   "source": [
    "print(len(df.loc[  (df['ends_with'] == 'ی')  ]))\n",
    "print(len(df.loc[  (df['ends_with'] == 'ي')  ]))\n",
    "print()\n",
    "print(len(df.loc[  (df['ends_with'] == 'ك')  ]))\n",
    "print(len(df.loc[  (df['ends_with'] == 'ل')  ]))\n",
    "print()\n",
    "print(len(df.loc[  (df['ends_with'] == 'ه')  ]))\n",
    "print(len(df.loc[  (df['ends_with'] == 'ة')  ]))\n"
   ]
  },
  {
   "cell_type": "markdown",
   "metadata": {},
   "source": [
    "I checked that the text did not use \"ی, ئ\", \"ک, ك\" and \"ه, ة\" at the same time"
   ]
  },
  {
   "cell_type": "markdown",
   "metadata": {},
   "source": [
    "that is clear that stemming and Lemmatization can't help"
   ]
  },
  {
   "cell_type": "markdown",
   "metadata": {},
   "source": [
    "ezafe_tag can't be 1 for the tokens that end in \"مان،تان،شان\" . But we may have exceptions. \"نشان\" for example"
   ]
  },
  {
   "cell_type": "code",
   "execution_count": 20,
   "metadata": {},
   "outputs": [
    {
     "data": {
      "text/html": [
       "<div>\n",
       "<style scoped>\n",
       "    .dataframe tbody tr th:only-of-type {\n",
       "        vertical-align: middle;\n",
       "    }\n",
       "\n",
       "    .dataframe tbody tr th {\n",
       "        vertical-align: top;\n",
       "    }\n",
       "\n",
       "    .dataframe thead th {\n",
       "        text-align: right;\n",
       "    }\n",
       "</style>\n",
       "<table border=\"1\" class=\"dataframe\">\n",
       "  <thead>\n",
       "    <tr style=\"text-align: right;\">\n",
       "      <th></th>\n",
       "      <th>token</th>\n",
       "      <th>pos_tag</th>\n",
       "      <th>ezafe_tag</th>\n",
       "      <th>is_verb</th>\n",
       "      <th>ends_with</th>\n",
       "      <th>token_len</th>\n",
       "    </tr>\n",
       "  </thead>\n",
       "  <tbody>\n",
       "    <tr>\n",
       "      <th>0</th>\n",
       "      <td>!هنری!</td>\n",
       "      <td>SUBJ</td>\n",
       "      <td>0</td>\n",
       "      <td>0</td>\n",
       "      <td>punctuation</td>\n",
       "      <td>6</td>\n",
       "    </tr>\n",
       "    <tr>\n",
       "      <th>1</th>\n",
       "      <td>#</td>\n",
       "      <td>DELM</td>\n",
       "      <td>0</td>\n",
       "      <td>0</td>\n",
       "      <td>punctuation</td>\n",
       "      <td>1</td>\n",
       "    </tr>\n",
       "    <tr>\n",
       "      <th>2</th>\n",
       "      <td>مسعود</td>\n",
       "      <td>N_SING_PR</td>\n",
       "      <td>1</td>\n",
       "      <td>0</td>\n",
       "      <td>د</td>\n",
       "      <td>5</td>\n",
       "    </tr>\n",
       "    <tr>\n",
       "      <th>3</th>\n",
       "      <td>شجاعی</td>\n",
       "      <td>N_SING_PR</td>\n",
       "      <td>1</td>\n",
       "      <td>0</td>\n",
       "      <td>ی</td>\n",
       "      <td>5</td>\n",
       "    </tr>\n",
       "    <tr>\n",
       "      <th>4</th>\n",
       "      <td>طباطبایی</td>\n",
       "      <td>N_SING_PR</td>\n",
       "      <td>0</td>\n",
       "      <td>0</td>\n",
       "      <td>ی</td>\n",
       "      <td>8</td>\n",
       "    </tr>\n",
       "    <tr>\n",
       "      <th>...</th>\n",
       "      <td>...</td>\n",
       "      <td>...</td>\n",
       "      <td>...</td>\n",
       "      <td>...</td>\n",
       "      <td>...</td>\n",
       "      <td>...</td>\n",
       "    </tr>\n",
       "    <tr>\n",
       "      <th>2602531</th>\n",
       "      <td>مصنوعی</td>\n",
       "      <td>ADJ_SIM</td>\n",
       "      <td>0</td>\n",
       "      <td>0</td>\n",
       "      <td>ی</td>\n",
       "      <td>6</td>\n",
       "    </tr>\n",
       "    <tr>\n",
       "      <th>2602532</th>\n",
       "      <td>ایجاد</td>\n",
       "      <td>N_SING_COM</td>\n",
       "      <td>0</td>\n",
       "      <td>0</td>\n",
       "      <td>د</td>\n",
       "      <td>5</td>\n",
       "    </tr>\n",
       "    <tr>\n",
       "      <th>2602533</th>\n",
       "      <td>شده</td>\n",
       "      <td>ADJ_INO</td>\n",
       "      <td>0</td>\n",
       "      <td>0</td>\n",
       "      <td>ه</td>\n",
       "      <td>3</td>\n",
       "    </tr>\n",
       "    <tr>\n",
       "      <th>2602534</th>\n",
       "      <td>است</td>\n",
       "      <td>V_PRE_SIM</td>\n",
       "      <td>0</td>\n",
       "      <td>1</td>\n",
       "      <td>ت</td>\n",
       "      <td>3</td>\n",
       "    </tr>\n",
       "    <tr>\n",
       "      <th>2602535</th>\n",
       "      <td>.</td>\n",
       "      <td>DELM</td>\n",
       "      <td>0</td>\n",
       "      <td>0</td>\n",
       "      <td>punctuation</td>\n",
       "      <td>1</td>\n",
       "    </tr>\n",
       "  </tbody>\n",
       "</table>\n",
       "<p>2602536 rows × 6 columns</p>\n",
       "</div>"
      ],
      "text/plain": [
       "            token     pos_tag  ezafe_tag  is_verb    ends_with  token_len\n",
       "0          !هنری!        SUBJ          0        0  punctuation          6\n",
       "1               #        DELM          0        0  punctuation          1\n",
       "2           مسعود   N_SING_PR          1        0            د          5\n",
       "3           شجاعی   N_SING_PR          1        0            ی          5\n",
       "4        طباطبایی   N_SING_PR          0        0            ی          8\n",
       "...           ...         ...        ...      ...          ...        ...\n",
       "2602531    مصنوعی     ADJ_SIM          0        0            ی          6\n",
       "2602532     ایجاد  N_SING_COM          0        0            د          5\n",
       "2602533       شده     ADJ_INO          0        0            ه          3\n",
       "2602534       است   V_PRE_SIM          0        1            ت          3\n",
       "2602535         .        DELM          0        0  punctuation          1\n",
       "\n",
       "[2602536 rows x 6 columns]"
      ]
     },
     "execution_count": 20,
     "metadata": {},
     "output_type": "execute_result"
    }
   ],
   "source": [
    "df"
   ]
  },
  {
   "cell_type": "markdown",
   "metadata": {},
   "source": [
    "Non-numeric types can not be used when creating the model. So we get the corresponding numbers in each feature"
   ]
  },
  {
   "cell_type": "code",
   "execution_count": 21,
   "metadata": {},
   "outputs": [],
   "source": [
    "from sklearn.preprocessing import LabelEncoder\n",
    "labelencoder = LabelEncoder()\n",
    "\n",
    "df['pos_tag'] = labelencoder.fit_transform(df['pos_tag'])\n",
    "df['token'] = labelencoder.fit_transform(df['token'])\n",
    "df['ends_with'] = labelencoder.fit_transform(df['ends_with'])"
   ]
  },
  {
   "cell_type": "markdown",
   "metadata": {},
   "source": [
    "In Persian, in addition to the role of the word itself, the role of the next and previous word can also effect ezafe tag, for example درخت پیر دانا"
   ]
  },
  {
   "cell_type": "code",
   "execution_count": 22,
   "metadata": {},
   "outputs": [
    {
     "data": {
      "text/html": [
       "<div>\n",
       "<style scoped>\n",
       "    .dataframe tbody tr th:only-of-type {\n",
       "        vertical-align: middle;\n",
       "    }\n",
       "\n",
       "    .dataframe tbody tr th {\n",
       "        vertical-align: top;\n",
       "    }\n",
       "\n",
       "    .dataframe thead th {\n",
       "        text-align: right;\n",
       "    }\n",
       "</style>\n",
       "<table border=\"1\" class=\"dataframe\">\n",
       "  <thead>\n",
       "    <tr style=\"text-align: right;\">\n",
       "      <th></th>\n",
       "      <th>token</th>\n",
       "      <th>pos_tag</th>\n",
       "      <th>ezafe_tag</th>\n",
       "      <th>is_verb</th>\n",
       "      <th>ends_with</th>\n",
       "      <th>token_len</th>\n",
       "      <th>next_pos_tag</th>\n",
       "      <th>prev_pos_tag</th>\n",
       "    </tr>\n",
       "  </thead>\n",
       "  <tbody>\n",
       "    <tr>\n",
       "      <th>0</th>\n",
       "      <td>136</td>\n",
       "      <td>248</td>\n",
       "      <td>0</td>\n",
       "      <td>0</td>\n",
       "      <td>46</td>\n",
       "      <td>6</td>\n",
       "      <td>65</td>\n",
       "      <td>483</td>\n",
       "    </tr>\n",
       "    <tr>\n",
       "      <th>1</th>\n",
       "      <td>192</td>\n",
       "      <td>65</td>\n",
       "      <td>0</td>\n",
       "      <td>0</td>\n",
       "      <td>46</td>\n",
       "      <td>1</td>\n",
       "      <td>167</td>\n",
       "      <td>248</td>\n",
       "    </tr>\n",
       "    <tr>\n",
       "      <th>2</th>\n",
       "      <td>53399</td>\n",
       "      <td>167</td>\n",
       "      <td>1</td>\n",
       "      <td>0</td>\n",
       "      <td>73</td>\n",
       "      <td>5</td>\n",
       "      <td>167</td>\n",
       "      <td>65</td>\n",
       "    </tr>\n",
       "    <tr>\n",
       "      <th>3</th>\n",
       "      <td>39644</td>\n",
       "      <td>167</td>\n",
       "      <td>1</td>\n",
       "      <td>0</td>\n",
       "      <td>106</td>\n",
       "      <td>5</td>\n",
       "      <td>167</td>\n",
       "      <td>167</td>\n",
       "    </tr>\n",
       "    <tr>\n",
       "      <th>4</th>\n",
       "      <td>42224</td>\n",
       "      <td>167</td>\n",
       "      <td>0</td>\n",
       "      <td>0</td>\n",
       "      <td>106</td>\n",
       "      <td>8</td>\n",
       "      <td>65</td>\n",
       "      <td>167</td>\n",
       "    </tr>\n",
       "    <tr>\n",
       "      <th>...</th>\n",
       "      <td>...</td>\n",
       "      <td>...</td>\n",
       "      <td>...</td>\n",
       "      <td>...</td>\n",
       "      <td>...</td>\n",
       "      <td>...</td>\n",
       "      <td>...</td>\n",
       "      <td>...</td>\n",
       "    </tr>\n",
       "    <tr>\n",
       "      <th>2602531</th>\n",
       "      <td>53973</td>\n",
       "      <td>23</td>\n",
       "      <td>0</td>\n",
       "      <td>0</td>\n",
       "      <td>106</td>\n",
       "      <td>6</td>\n",
       "      <td>121</td>\n",
       "      <td>121</td>\n",
       "    </tr>\n",
       "    <tr>\n",
       "      <th>2602532</th>\n",
       "      <td>12291</td>\n",
       "      <td>121</td>\n",
       "      <td>0</td>\n",
       "      <td>0</td>\n",
       "      <td>73</td>\n",
       "      <td>5</td>\n",
       "      <td>18</td>\n",
       "      <td>23</td>\n",
       "    </tr>\n",
       "    <tr>\n",
       "      <th>2602533</th>\n",
       "      <td>39693</td>\n",
       "      <td>18</td>\n",
       "      <td>0</td>\n",
       "      <td>0</td>\n",
       "      <td>91</td>\n",
       "      <td>3</td>\n",
       "      <td>423</td>\n",
       "      <td>121</td>\n",
       "    </tr>\n",
       "    <tr>\n",
       "      <th>2602534</th>\n",
       "      <td>7714</td>\n",
       "      <td>423</td>\n",
       "      <td>0</td>\n",
       "      <td>1</td>\n",
       "      <td>68</td>\n",
       "      <td>3</td>\n",
       "      <td>65</td>\n",
       "      <td>18</td>\n",
       "    </tr>\n",
       "    <tr>\n",
       "      <th>2602535</th>\n",
       "      <td>209</td>\n",
       "      <td>65</td>\n",
       "      <td>0</td>\n",
       "      <td>0</td>\n",
       "      <td>46</td>\n",
       "      <td>1</td>\n",
       "      <td>483</td>\n",
       "      <td>423</td>\n",
       "    </tr>\n",
       "  </tbody>\n",
       "</table>\n",
       "<p>2602536 rows × 8 columns</p>\n",
       "</div>"
      ],
      "text/plain": [
       "         token  pos_tag  ezafe_tag  is_verb  ends_with  token_len  \\\n",
       "0          136      248          0        0         46          6   \n",
       "1          192       65          0        0         46          1   \n",
       "2        53399      167          1        0         73          5   \n",
       "3        39644      167          1        0        106          5   \n",
       "4        42224      167          0        0        106          8   \n",
       "...        ...      ...        ...      ...        ...        ...   \n",
       "2602531  53973       23          0        0        106          6   \n",
       "2602532  12291      121          0        0         73          5   \n",
       "2602533  39693       18          0        0         91          3   \n",
       "2602534   7714      423          0        1         68          3   \n",
       "2602535    209       65          0        0         46          1   \n",
       "\n",
       "         next_pos_tag  prev_pos_tag  \n",
       "0                  65           483  \n",
       "1                 167           248  \n",
       "2                 167            65  \n",
       "3                 167           167  \n",
       "4                  65           167  \n",
       "...               ...           ...  \n",
       "2602531           121           121  \n",
       "2602532            18            23  \n",
       "2602533           423           121  \n",
       "2602534            65            18  \n",
       "2602535           483           423  \n",
       "\n",
       "[2602536 rows x 8 columns]"
      ]
     },
     "execution_count": 22,
     "metadata": {},
     "output_type": "execute_result"
    }
   ],
   "source": [
    "\n",
    "df['is_verb'] = labelencoder.fit_transform(df['is_verb'])\n",
    "df[\"next_pos_tag\"] = df['pos_tag'].shift(periods=-1)\n",
    "df[\"prev_pos_tag\"] = df['pos_tag'].shift(periods=1)\n",
    "df['next_pos_tag'] = labelencoder.fit_transform(df['next_pos_tag'])   # convert NaN\n",
    "df['prev_pos_tag'] = labelencoder.fit_transform(df['prev_pos_tag'])\n",
    "df"
   ]
  },
  {
   "cell_type": "code",
   "execution_count": 23,
   "metadata": {},
   "outputs": [
    {
     "data": {
      "text/plain": [
       "<AxesSubplot:>"
      ]
     },
     "execution_count": 23,
     "metadata": {},
     "output_type": "execute_result"
    },
    {
     "data": {
      "image/png": "[encoded data removed]",
      "text/plain": [
       "<Figure size 432x288 with 1 Axes>"
      ]
     },
     "metadata": {
      "needs_background": "light"
     },
     "output_type": "display_data"
    }
   ],
   "source": [
    "df['ends_with'].hist(bins=50)"
   ]
  },
  {
   "cell_type": "markdown",
   "metadata": {},
   "source": [
    "Use all data except the last 100,000 for Train and the last 100,000 for Test"
   ]
  },
  {
   "cell_type": "code",
   "execution_count": 24,
   "metadata": {},
   "outputs": [],
   "source": [
    "from sklearn.metrics import precision_score\n",
    "from sklearn.metrics import recall_score\n",
    "from sklearn.metrics import accuracy_score\n",
    "\n",
    "def model(X, y, decision):\n",
    "    trainX, testX, trainY, testY = X[:-100000], X[-100000:],y[:-100000], y[-100000:]\n",
    "    decision.fit(trainX, trainY)\n",
    "    predY = decision.predict(testX)\n",
    "    return accuracy_score(y_true=testY, y_pred=predY)*100, precision_score(predY, testY, average='binary')*100, recall_score(predY, testY, average='binary')*100"
   ]
  },
  {
   "cell_type": "code",
   "execution_count": 25,
   "metadata": {},
   "outputs": [],
   "source": [
    "X = ['token','pos_tag','is_verb','ends_with','token_len','next_pos_tag', 'prev_pos_tag']\n",
    "y = df['ezafe_tag']"
   ]
  },
  {
   "cell_type": "code",
   "execution_count": 26,
   "metadata": {},
   "outputs": [],
   "source": [
    "# from sklearn.svm import SVC\n",
    "# decision = SVC()\n",
    "# print(model(df[X], y, decision ))"
   ]
  },
  {
   "cell_type": "markdown",
   "metadata": {},
   "source": [
    "SCV is very slow "
   ]
  },
  {
   "cell_type": "code",
   "execution_count": 27,
   "metadata": {},
   "outputs": [
    {
     "name": "stdout",
     "output_type": "stream",
     "text": [
      "accuracy_score  precision_score   recall_score\n",
      "(63.243, 59.59132271693207, 35.3648834349912)\n",
      "(63.365, 59.59132271693207, 35.46920714752037)\n",
      "(63.668, 59.59132271693207, 35.73098845423101)\n"
     ]
    }
   ],
   "source": [
    "from sklearn.naive_bayes import MultinomialNB\n",
    "\n",
    "print('accuracy_score  precision_score   recall_score')\n",
    "\n",
    "decision = MultinomialNB(alpha=0.8)\n",
    "print(model(df[X], y, decision ))\n",
    "\n",
    "decision = MultinomialNB(alpha=0.4)\n",
    "print(model(df[X], y, decision ))\n",
    "\n",
    "decision = MultinomialNB(alpha=0.01)\n",
    "print(model(df[X], y, decision ))\n"
   ]
  },
  {
   "cell_type": "code",
   "execution_count": 28,
   "metadata": {},
   "outputs": [
    {
     "name": "stdout",
     "output_type": "stream",
     "text": [
      "(96.489, 92.65112122196945, 93.05561222408095)\n"
     ]
    }
   ],
   "source": [
    "from sklearn import tree\n",
    "decision = tree.DecisionTreeClassifier()\n",
    "print(model(df[X], y, decision ))"
   ]
  },
  {
   "cell_type": "markdown",
   "metadata": {},
   "source": [
    "This model works well both in time and accuracy"
   ]
  },
  {
   "cell_type": "code",
   "execution_count": 29,
   "metadata": {},
   "outputs": [],
   "source": [
    "# from sklearn.neural_network import MLPClassifier\n",
    "# decision = MLPClassifier(hidden_layer_sizes=(2,), random_state=0, max_iter=100, alpha=0.01)\n",
    "# print(model(df[X], y, decision ))"
   ]
  },
  {
   "cell_type": "markdown",
   "metadata": {},
   "source": [
    "MLP is very slow"
   ]
  },
  {
   "cell_type": "markdown",
   "metadata": {},
   "source": [
    "DecisionTree is the best model.\n",
    "\n",
    "now feature selection:"
   ]
  },
  {
   "cell_type": "code",
   "execution_count": 30,
   "metadata": {},
   "outputs": [],
   "source": [
    "decision = tree.DecisionTreeClassifier()\n",
    "# print('accuracy_score  precision_score   recall_score')\n",
    "\n",
    "# from itertools import combinations\n",
    "# for i in range (3, 7):\n",
    "#     for a in (combinations(X, i)):\n",
    "#         a = list(a)\n",
    "#         print(a)\n",
    "#         print(model(df[a], y, decision ))"
   ]
  },
  {
   "cell_type": "markdown",
   "metadata": {},
   "source": [
    "To check the effect of each feature, I checked all the 3 to 6 selections (I commented because it was time consuming)\n",
    "\n",
    "Results:\n",
    "\n",
    "Those with higher accuracy, precision, and recall used the next_pos_tag\n",
    "\n",
    "Somewhere we have the lowest precision (between 20 and 40%) of the verb feature used\n",
    "\n",
    "It is not possible for recall to be high and accuracy and precision to be low\n",
    "\n",
    "If we use the token itself, the recall will be high\n",
    "\n",
    "The last letter and the position tag of the token and the position tag of the next token are the most effective features"
   ]
  },
  {
   "cell_type": "markdown",
   "metadata": {},
   "source": [
    "best answers:"
   ]
  },
  {
   "cell_type": "code",
   "execution_count": 31,
   "metadata": {},
   "outputs": [
    {
     "name": "stdout",
     "output_type": "stream",
     "text": [
      "accuracy_score  precision_score   recall_score\n",
      "(96.52, 92.78518037049074, 93.0573663624511)\n",
      "(96.532, 92.80142996425089, 93.08883455582722)\n",
      "(96.46900000000001, 92.5617484562886, 93.05697365734122)\n",
      "(95.891, 95.34449138771531, 88.79052699277419)\n",
      "(95.884, 95.33636659083523, 88.77288545922227)\n"
     ]
    }
   ],
   "source": [
    "print('accuracy_score  precision_score   recall_score')\n",
    "\n",
    "print(model(df[['token', 'pos_tag',            'ends_with',              'next_pos_tag', 'prev_pos_tag']], y, decision ))\n",
    "print(model(df[['token', 'pos_tag', 'is_verb', 'ends_with',              'next_pos_tag', 'prev_pos_tag']], y, decision ))\n",
    "print(model(df[['token', 'pos_tag',            'ends_with', 'token_len', 'next_pos_tag', 'prev_pos_tag']], y, decision ))\n",
    "print(model(df[[         'pos_tag',            'ends_with', 'token_len', 'next_pos_tag'                ]], y, decision ))\n",
    "print(model(df[[         'pos_tag', 'is_verb', 'ends_with', 'token_len', 'next_pos_tag'                ]], y, decision ))"
   ]
  }
 ],
 "metadata": {
  "interpreter": {
   "hash": "916dbcbb3f70747c44a77c7bcd40155683ae19c65e1c03b4aa3499c5328201f1"
  },
  "kernelspec": {
   "display_name": "Python 3.8.10 64-bit",
   "language": "python",
   "name": "python3"
  },
  "language_info": {
   "codemirror_mode": {
    "name": "ipython",
    "version": 3
   },
   "file_extension": ".py",
   "mimetype": "text/x-python",
   "name": "python",
   "nbconvert_exporter": "python",
   "pygments_lexer": "ipython3",
   "version": "3.8.10"
  },
  "orig_nbformat": 4
 },
 "nbformat": 4,
 "nbformat_minor": 2
}
